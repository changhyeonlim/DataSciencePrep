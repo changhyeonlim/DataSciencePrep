{
 "cells": [
  {
   "cell_type": "markdown",
   "metadata": {},
   "source": [
    "## 10 Days of Statistics from HackerRank"
   ]
  },
  {
   "cell_type": "markdown",
   "metadata": {},
   "source": [
    "### Problem 1\n",
    "#### Task\n",
    "Given an array, $X$,  of  $N$ integers, calculate and print the respective mean, median, and mode on separate lines. If your array contains more than one modal value, choose the numerically smallest one.\n",
    "\n",
    "Note: Other than the modal value (which will always be an integer), your answers should be in decimal form, rounded to a scale of $1$ decimal place (i.e., $12.3$ , $7.0$  format)."
   ]
  },
  {
   "cell_type": "code",
   "execution_count": null,
   "metadata": {
    "vscode": {
     "languageId": "plaintext"
    }
   },
   "outputs": [],
   "source": [
    "# Enter your code here. Read input from STDIN. Print output to STDOUT\n",
    "args1 = int(input())\n",
    "args2 = input()\n",
    "# G = list(input())\n",
    "\n",
    "def average_val(N, nums):\n",
    "\n",
    "    temp = 0\n",
    "    for i in nums:\n",
    "        temp += i\n",
    "    print(\"%.1f\" %(temp / N))\n",
    "\n",
    "def median_val(N, nums):\n",
    "    nums.sort()\n",
    "    if N % 2 == 0:\n",
    "        med = (nums[N // 2] + nums [N // 2 - 1]) / 2\n",
    "    else:\n",
    "        med = nums[N // 2]\n",
    "    print(\"%.1f\" %(med))\n",
    "\n",
    "def mode_val(N, nums):\n",
    "    d = {}\n",
    "    for i in nums:\n",
    "        d[i] = d.get(i, 0) + 1\n",
    "    if len(d) == N:\n",
    "        print(min(nums))\n",
    "    else:\n",
    "        print(max(d, key = lambda x: d[x]))\n",
    "\n",
    "N = args1\n",
    "nums = list(map(int, args2.split(\" \")))\n",
    "average_val(N, nums)\n",
    "median_val(N, nums)\n",
    "mode_val(N, nums)"
   ]
  },
  {
   "cell_type": "markdown",
   "metadata": {},
   "source": [
    "### Problem 2\n",
    "#### Task\n",
    "Task\n",
    "Given an array, $X$, $N$ of  integers and an array, $W$ , representing the respective weights of $X$'s elements, calculate and print the weighted mean of $X$'s elements. Your answer should be rounded to a scale of $1$ decimal place (i.e., $12.3$ format)."
   ]
  },
  {
   "cell_type": "code",
   "execution_count": null,
   "metadata": {
    "vscode": {
     "languageId": "plaintext"
    }
   },
   "outputs": [],
   "source": [
    "#!/bin/python3\n",
    "\n",
    "import math\n",
    "import os\n",
    "import random\n",
    "import re\n",
    "import sys\n",
    "\n",
    "#\n",
    "# Complete the 'weightedMean' function below.\n",
    "#\n",
    "# The function accepts following parameters:\n",
    "#  1. INTEGER_ARRAY X\n",
    "#  2. INTEGER_ARRAY W\n",
    "#\n",
    "\n",
    "def weightedMean(X, W):\n",
    "    # Write your code here\n",
    "    xw = [x*w for x, w in zip(X, W)]        \n",
    "    print(\"%.1f\" %(sum(xw) / sum(W))) \n",
    "    \n",
    "if __name__ == '__main__':\n",
    "    n = int(input().strip())\n",
    "\n",
    "    vals = list(map(int, input().rstrip().split()))\n",
    "\n",
    "    weights = list(map(int, input().rstrip().split()))\n",
    "\n",
    "    weightedMean(vals, weights)\n"
   ]
  }
 ],
 "metadata": {
  "language_info": {
   "name": "python"
  },
  "orig_nbformat": 4
 },
 "nbformat": 4,
 "nbformat_minor": 2
}
