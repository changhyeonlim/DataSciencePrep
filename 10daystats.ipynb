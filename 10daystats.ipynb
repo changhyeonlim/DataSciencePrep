{
 "cells": [
  {
   "cell_type": "markdown",
   "metadata": {},
   "source": [
    "## 10 Days of Statistics from HackerRank"
   ]
  },
  {
   "cell_type": "markdown",
   "metadata": {},
   "source": [
    "### Problem 1\n",
    "#### Task\n",
    "Given an array, $X$,  of  $N$ integers, calculate and print the respective mean, median, and mode on separate lines. If your array contains more than one modal value, choose the numerically smallest one.\n",
    "\n",
    "Note: Other than the modal value (which will always be an integer), your answers should be in decimal form, rounded to a scale of $1$ decimal place (i.e., $12.3$ , $7.0$  format)."
   ]
  },
  {
   "cell_type": "code",
   "execution_count": null,
   "metadata": {
    "vscode": {
     "languageId": "plaintext"
    }
   },
   "outputs": [],
   "source": [
    "# Enter your code here. Read input from STDIN. Print output to STDOUT\n",
    "args1 = int(input())\n",
    "args2 = input()\n",
    "# G = list(input())\n",
    "\n",
    "def average_val(N, nums):\n",
    "\n",
    "    temp = 0\n",
    "    for i in nums:\n",
    "        temp += i\n",
    "    print(\"%.1f\" %(temp / N))\n",
    "\n",
    "def median_val(N, nums):\n",
    "    nums.sort()\n",
    "    if N % 2 == 0:\n",
    "        med = (nums[N // 2] + nums [N // 2 - 1]) / 2\n",
    "    else:\n",
    "        med = nums[N // 2]\n",
    "    print(\"%.1f\" %(med))\n",
    "\n",
    "def mode_val(N, nums):\n",
    "    d = {}\n",
    "    for i in nums:\n",
    "        d[i] = d.get(i, 0) + 1\n",
    "    if len(d) == N:\n",
    "        print(min(nums))\n",
    "    else:\n",
    "        print(max(d, key = lambda x: d[x]))\n",
    "\n",
    "N = args1\n",
    "nums = list(map(int, args2.split(\" \")))\n",
    "average_val(N, nums)\n",
    "median_val(N, nums)\n",
    "mode_val(N, nums)"
   ]
  },
  {
   "cell_type": "markdown",
   "metadata": {},
   "source": [
    "### Problem 2\n",
    "#### Task\n",
    "Task\n",
    "Given an array, $X$, $N$ of  integers and an array, $W$ , representing the respective weights of $X$'s elements, calculate and print the weighted mean of $X$'s elements. Your answer should be rounded to a scale of $1$ decimal place (i.e., $12.3$ format)."
   ]
  },
  {
   "cell_type": "code",
   "execution_count": null,
   "metadata": {
    "vscode": {
     "languageId": "plaintext"
    }
   },
   "outputs": [],
   "source": [
    "#!/bin/python3\n",
    "\n",
    "import math\n",
    "import os\n",
    "import random\n",
    "import re\n",
    "import sys\n",
    "\n",
    "#\n",
    "# Complete the 'weightedMean' function below.\n",
    "#\n",
    "# The function accepts following parameters:\n",
    "#  1. INTEGER_ARRAY X\n",
    "#  2. INTEGER_ARRAY W\n",
    "#\n",
    "\n",
    "def weightedMean(X, W):\n",
    "    # Write your code here\n",
    "    xw = [x*w for x, w in zip(X, W)]        \n",
    "    print(\"%.1f\" %(sum(xw) / sum(W))) \n",
    "    \n",
    "if __name__ == '__main__':\n",
    "    n = int(input().strip())\n",
    "\n",
    "    vals = list(map(int, input().rstrip().split()))\n",
    "\n",
    "    weights = list(map(int, input().rstrip().split()))\n",
    "\n",
    "    weightedMean(vals, weights)\n"
   ]
  },
  {
   "cell_type": "markdown",
   "metadata": {},
   "source": [
    "### Problem 3\n",
    "Task\n",
    "Given an array, `arr`, of $n$ integers, calculate the respective first quartile ($Q_1$), second quartile ($Q_2$), and third quartile ($Q_3$). It is guaranteed that $Q_1$, $Q_2$, and $Q_3$ are integers."
   ]
  },
  {
   "cell_type": "code",
   "execution_count": null,
   "metadata": {
    "vscode": {
     "languageId": "plaintext"
    }
   },
   "outputs": [],
   "source": [
    "#!/bin/python3\n",
    "\n",
    "import math\n",
    "import os\n",
    "import random\n",
    "import re\n",
    "import sys\n",
    "\n",
    "#\n",
    "# Complete the 'quartiles' function below.\n",
    "#\n",
    "# The function is expected to return an INTEGER_ARRAY.\n",
    "# The function accepts INTEGER_ARRAY arr as parameter.\n",
    "#\n",
    "\n",
    "def quartiles(arr):\n",
    "    # Write your code here\n",
    "    def med(arr_red):\n",
    "        mid_ind = int(len(arr_red) // 2)\n",
    "        if len(arr_red) % 2 == 0:\n",
    "            return int(sum(arr_red[mid_ind - 1: mid_ind + 1]) / 2)   \n",
    "        return arr_red[mid_ind]\n",
    "    arr.sort()\n",
    "    ind = len(arr) // 2\n",
    "    q2 = med(arr)\n",
    "    if len(arr) % 2 == 0:\n",
    "        q1 = med(arr[:ind])\n",
    "        q3 = med(arr[ind:])\n",
    "    else:\n",
    "        q1 = med(arr[:ind])\n",
    "        q3 = med(arr[ind+1:])\n",
    "    return [q1, q2, q3]\n",
    "        \n",
    "if __name__ == '__main__':\n",
    "    fptr = open(os.environ['OUTPUT_PATH'], 'w')\n",
    "\n",
    "    n = int(input().strip())\n",
    "\n",
    "    data = list(map(int, input().rstrip().split()))\n",
    "\n",
    "    res = quartiles(data)\n",
    "\n",
    "    fptr.write('\\n'.join(map(str, res)))\n",
    "    fptr.write('\\n')\n",
    "\n",
    "    fptr.close()\n"
   ]
  },
  {
   "cell_type": "markdown",
   "metadata": {},
   "source": [
    "### Problem 4\n",
    "\n",
    "Task\n",
    "The interquartile range of an array is the difference between its first ($Q_1$) and third ($Q_3$) quartiles (i.e., $Q_3 - Q_1$).\n",
    "\n",
    "Given an array,`values`, of $n$ integers and an array, `freqs`, representing the respective frequencies of `values`'s elements, construct a data set, $S$, where each `values[i]` occurs at frequency `freqs[i]`. Then calculate and print $S$'s interquartile range, rounded to a scale of 1 decimal place (i.e.,  $12.3$ format)."
   ]
  },
  {
   "cell_type": "code",
   "execution_count": null,
   "metadata": {
    "vscode": {
     "languageId": "plaintext"
    }
   },
   "outputs": [],
   "source": [
    "#!/bin/python3\n",
    "\n",
    "import math\n",
    "import os\n",
    "import random\n",
    "import re\n",
    "import sys\n",
    "\n",
    "#\n",
    "# Complete the 'interQuartile' function below.\n",
    "#\n",
    "# The function accepts following parameters:\n",
    "#  1. INTEGER_ARRAY values\n",
    "#  2. INTEGER_ARRAY freqs\n",
    "#\n",
    "\n",
    "def interQuartile(values, freqs):\n",
    "    # Print your answer to 1 decimal place within this function\n",
    "    def getmed(arr_red):\n",
    "        midpt = len(arr_red) // 2\n",
    "        if len(arr_red) % 2 == 0:\n",
    "            return sum(arr_red[midpt-1:midpt+1]) / 2\n",
    "        return arr_red[midpt]\n",
    "    \n",
    "    arr = []\n",
    "    for v, f in zip(values, freqs):\n",
    "        arr.extend([v] * f)\n",
    "    arr.sort()\n",
    "    q1 = getmed(arr[:len(arr)//2])\n",
    "\n",
    "    if len(arr) % 2:\n",
    "        q3 = getmed(arr[len(arr)//2 + 1:])\n",
    "    else:\n",
    "        q3 = getmed(arr[len(arr)//2:])\n",
    "        \n",
    "    print(\"%.1f\" %(q3- q1))\n",
    "    \n",
    "if __name__ == '__main__':\n",
    "    n = int(input().strip())\n",
    "\n",
    "    val = list(map(int, input().rstrip().split()))\n",
    "\n",
    "    freq = list(map(int, input().rstrip().split()))\n",
    "\n",
    "    interQuartile(val, freq)"
   ]
  },
  {
   "cell_type": "markdown",
   "metadata": {},
   "source": [
    "### Problem 5\n",
    "\n",
    "Given an array, `arr`, of $n$ integers, calculate and print the standard deviation. Your answer should be in decimal form, rounded to a scale of $1$ decimal place (i.e., $12.3$ format). An error margin of $\\pm 0.1$ will be tolerated for the standard deviation."
   ]
  },
  {
   "cell_type": "code",
   "execution_count": null,
   "metadata": {
    "vscode": {
     "languageId": "plaintext"
    }
   },
   "outputs": [],
   "source": [
    "#!/bin/python3\n",
    "\n",
    "import math\n",
    "import os\n",
    "import random\n",
    "import re\n",
    "import sys\n",
    "\n",
    "#\n",
    "# Complete the 'stdDev' function below.\n",
    "#\n",
    "# The function accepts INTEGER_ARRAY arr as parameter.\n",
    "#\n",
    "\n",
    "def stdDev(arr):\n",
    "    # Print your answers to 1 decimal place within this function\n",
    "    avg = sum(arr) / len(arr)\n",
    "    var_ele = [(i - avg) ** 2 for i in arr]\n",
    "    stddev = (sum(var_ele) / len(arr)) ** 0.5\n",
    "    print(\"%.1f\" %(stddev))\n",
    "    \n",
    "if __name__ == '__main__':\n",
    "    n = int(input().strip())\n",
    "\n",
    "    vals = list(map(int, input().rstrip().split()))\n",
    "\n",
    "    stdDev(vals)"
   ]
  },
  {
   "cell_type": "markdown",
   "metadata": {},
   "source": [
    "### Problem 6\n",
    "In a single toss of $2$ fair (evenly-weighted) six-sided dice, find the probability that their sum will be at most 9.\n",
    "\n",
    "Answer: 5/6"
   ]
  },
  {
   "cell_type": "markdown",
   "metadata": {},
   "source": [
    "### Problem 7\n",
    "In a single toss of $2$ fair (evenly-weighted) six-sided dice, find the probability that the values rolled by each die will be different and the two dice have a sum of 6.\n",
    "\n",
    "Answer: 4 / (6 * 6) = 1/9"
   ]
  },
  {
   "cell_type": "markdown",
   "metadata": {},
   "source": [
    "### Problem 8\n",
    "There are 3 urns labeled $X$, $Y$, and $Z$.\n",
    "\n",
    "Urn $X$ contains $4$ red balls and $3$ black balls.\n",
    "Urn $Y$ contains $5$ red balls and $4$ black balls.\n",
    "Urn $Z$ contains $4$ red balls and $4$ black balls.\n",
    "\n",
    "One ball is drawn from each of the $3$ urns. What is the probability that, of the $3$ balls drawn, $2$ are red and $1$ is black?\n",
    "\n",
    "Answer: 4/7 * 5/9 * 1/2 + 4/7 * 4/9 * 1/2 + 3/7 * 5/9 * 1/2 = 17/42"
   ]
  },
  {
   "cell_type": "markdown",
   "metadata": {},
   "source": [
    "### Problem 9\n",
    "Suppose a family has $2$ children, one of which is a boy. What is the probability that both children are boys?\n",
    "\n",
    "Answer: 1/3"
   ]
  },
  {
   "cell_type": "markdown",
   "metadata": {},
   "source": [
    "### Problem 10\n",
    "You draw $2$ cards from a standard $52$-card deck without replacing them. What is the probability that both cards are of the same suit?\n",
    "\n",
    "Answer: 12/51"
   ]
  },
  {
   "cell_type": "markdown",
   "metadata": {},
   "source": [
    "### Problem 11\n",
    "A bag contains 3 red marbles and 4 blue marbles. Then, 2 marbles are drawn from the bag, at random, without replacement. If the first marble drawn is red, what is the probability that the second marble is blue?\n",
    "\n",
    "Answer: 2/3"
   ]
  },
  {
   "cell_type": "markdown",
   "metadata": {},
   "source": [
    "### Problem 12"
   ]
  },
  {
   "cell_type": "code",
   "execution_count": null,
   "metadata": {
    "vscode": {
     "languageId": "plaintext"
    }
   },
   "outputs": [],
   "source": [
    "#Enter your code here. Read input from STDIN. Print output to STDOUT\n",
    "import math\n",
    "\n",
    "args = list(map(float, input().rstrip().split()))\n",
    "prob = [i / sum(args) for i in args]\n",
    "# print(prob)\n",
    "n = 6\n",
    "xval = 3\n",
    "\n",
    "binoms = [math.comb(n, x) * (prob[0] ** x) *  (prob[1] ** (n - x)) for x in range(xval, n + 1)]\n",
    "\n",
    "print(\"{0:0.3f}\" .format(sum(binoms)))"
   ]
  },
  {
   "cell_type": "markdown",
   "metadata": {},
   "source": [
    "### Problem 13"
   ]
  },
  {
   "cell_type": "code",
   "execution_count": null,
   "metadata": {
    "vscode": {
     "languageId": "plaintext"
    }
   },
   "outputs": [],
   "source": [
    "# Enter your code here. Read input from STDIN. Print output to STDOUT\n",
    "import math\n",
    "\n",
    "args = list(map(int, input().rstrip().split()))\n",
    "prob = float(args[0] / 100)\n",
    "# print(prob)\n",
    "n = args[1]\n",
    "xval = 2\n",
    "nomore = [math.comb(n, x) * (prob ** x) *  ((1 - prob) ** (n - x)) for x in range(0, xval + 1)]\n",
    "\n",
    "atleast = [math.comb(n, x) * (prob ** x) *  ((1 - prob) ** (n - x)) for x in range(xval, n + 1)]\n",
    "print(\"{0:0.3f}\" .format(sum(nomore)))\n",
    "print(\"{0:0.3f}\" .format(sum(atleast)))"
   ]
  },
  {
   "cell_type": "markdown",
   "metadata": {},
   "source": [
    "### Problem 14"
   ]
  },
  {
   "cell_type": "code",
   "execution_count": null,
   "metadata": {
    "vscode": {
     "languageId": "plaintext"
    }
   },
   "outputs": [],
   "source": [
    "# Enter your code here. Read input from STDIN. Print output to STDOUT\n",
    "import math\n",
    "\n",
    "args = list(map(int, input().rstrip().split()))\n",
    "n = int(input())\n",
    "prob = float(args[0] / args[1])\n",
    "ans = (1 - prob) ** (n - 1) * prob\n",
    "print(round(ans, 3))"
   ]
  },
  {
   "cell_type": "markdown",
   "metadata": {},
   "source": [
    "### Problem 15"
   ]
  },
  {
   "cell_type": "code",
   "execution_count": null,
   "metadata": {
    "vscode": {
     "languageId": "plaintext"
    }
   },
   "outputs": [],
   "source": [
    "# Enter your code here. Read input from STDIN. Print output to STDOUT\n",
    "import math\n",
    "\n",
    "args = list(map(int, input().rstrip().split()))\n",
    "n = int(input())\n",
    "prob = float(args[0] / args[1])\n",
    "\n",
    "ans = sum([(1 - prob) ** i * prob for i in range(0, n)])\n",
    "print(round(ans, 3))"
   ]
  },
  {
   "cell_type": "markdown",
   "metadata": {
    "vscode": {
     "languageId": "plaintext"
    }
   },
   "source": [
    "### Problem 16\n",
    "\n",
    "Poisson's distribution"
   ]
  },
  {
   "cell_type": "code",
   "execution_count": null,
   "metadata": {
    "vscode": {
     "languageId": "plaintext"
    }
   },
   "outputs": [],
   "source": [
    "import math\n",
    "\n",
    "l = float(input())\n",
    "x = int(input())\n",
    "\n",
    "prob = l ** x * math.exp(-l) / math.factorial(x)\n",
    "print(round(prob, 3))\n"
   ]
  },
  {
   "cell_type": "markdown",
   "metadata": {},
   "source": [
    "### Problem 17\n",
    "\n",
    "Poisson's distribution with an expected value of a given random variable "
   ]
  },
  {
   "cell_type": "code",
   "execution_count": null,
   "metadata": {
    "vscode": {
     "languageId": "plaintext"
    }
   },
   "outputs": [],
   "source": [
    "# Enter your code here. Read input from STDIN. Print output to STDOUT\n",
    "\n",
    "args = list(map(float, input().rstrip().split()))\n",
    "\n",
    "f = args[0] + args[0] ** 2\n",
    "a = 160 + 40 * f\n",
    "print(round(a, 3))\n",
    "\n",
    "g = args[1] + args[1] ** 2\n",
    "b = 128 + 40 * g\n",
    "print(round(b, 3))\n"
   ]
  },
  {
   "cell_type": "markdown",
   "metadata": {},
   "source": [
    "### Problem 18\n",
    "\n",
    "Normal distribution with a calculation of cumulative distribution function"
   ]
  },
  {
   "cell_type": "code",
   "execution_count": null,
   "metadata": {
    "vscode": {
     "languageId": "plaintext"
    }
   },
   "outputs": [],
   "source": [
    "# Enter your code here. Read input from STDIN. Print output to STDOUT\n",
    "import math\n",
    "\n",
    "args = list(map(float, input().rstrip().split()))\n",
    "mu = args[0]\n",
    "std = args[1]\n",
    "ran1 = float(input())\n",
    "ran2 = list(map(int, input().rstrip().split()))\n",
    "\n",
    "prob1 = 0.5 * (1 + math.erf((ran1 - mu) / (std * math.sqrt(2))))\n",
    "print(round(prob1, 3))\n",
    "\n",
    "z2_1 = (ran2[0] - mu) / std\n",
    "z2_2 = (ran2[1] - mu) / std\n",
    "prob2 = 0.5 * (1 + math.erf((ran2[0] - mu) / (std * math.sqrt(2))))\n",
    "prob3 = 0.5 * (1 + math.erf((ran2[1] - mu) / (std * math.sqrt(2))))\n",
    "print(round(prob3 - prob2, 3))\n",
    "\n"
   ]
  },
  {
   "cell_type": "markdown",
   "metadata": {},
   "source": [
    "### Problem 19\n",
    "Normal distribution with a calculation of cumulative distribution function"
   ]
  },
  {
   "cell_type": "code",
   "execution_count": null,
   "metadata": {
    "vscode": {
     "languageId": "plaintext"
    }
   },
   "outputs": [],
   "source": [
    "# Enter your code here. Read input from STDIN. Print output to STDOUT\n",
    "import math\n",
    "\n",
    "args = list(map(float, input().rstrip().split()))\n",
    "mu = args[0]\n",
    "std = args[1]\n",
    "ran1 = float(input())\n",
    "ran2 = float(input())\n",
    "cdf = lambda x: 0.5 * (1 + math.erf((x - mu) / (std * math.sqrt(2))))\n",
    "\n",
    "print(round((1 - cdf(ran1)) * 100, 2))\n",
    "print(round((1 - cdf(ran2)) * 100, 2))\n",
    "print(round(cdf(ran2) *100, 2))\n"
   ]
  },
  {
   "cell_type": "markdown",
   "metadata": {},
   "source": [
    "### Problem 20\n",
    "\n",
    "Central limit theorem"
   ]
  },
  {
   "cell_type": "code",
   "execution_count": null,
   "metadata": {
    "vscode": {
     "languageId": "plaintext"
    }
   },
   "outputs": [],
   "source": [
    "# Enter your code here. Read input from STDIN. Print output to STDOUT\n",
    "import math \n",
    "x = int(input())\n",
    "n = int(input())\n",
    "mu = int(input())\n",
    "std = int(input())\n",
    "\n",
    "mu_ = mu * n\n",
    "std_ = math.sqrt(n) * std\n",
    "\n",
    "cdf = lambda x: 0.5 * (1 + math.erf((x - mu_) / (math.sqrt(2) * std_)))\n",
    "print(round(cdf(x),4))"
   ]
  },
  {
   "cell_type": "markdown",
   "metadata": {},
   "source": [
    "### Problem 21"
   ]
  },
  {
   "cell_type": "code",
   "execution_count": null,
   "metadata": {
    "vscode": {
     "languageId": "plaintext"
    }
   },
   "outputs": [],
   "source": [
    "# Enter your code here. Read input from STDIN. Print output to STDOUT\n",
    "import math \n",
    "\n",
    "x = int(input())\n",
    "n = int(input())\n",
    "mu = float(input())\n",
    "std = float(input())\n",
    "\n",
    "mu_ = mu * n\n",
    "std_ = math.sqrt(n) * std\n",
    "\n",
    "cdf = lambda x: 0.5 * (1 + math.erf((x - mu_) / (math.sqrt(2) * std_)))\n",
    "print(round(cdf(x),4))"
   ]
  },
  {
   "cell_type": "markdown",
   "metadata": {},
   "source": [
    "### Problem 22"
   ]
  },
  {
   "cell_type": "code",
   "execution_count": null,
   "metadata": {
    "vscode": {
     "languageId": "plaintext"
    }
   },
   "outputs": [],
   "source": [
    "# Enter your code here. Read input from STDIN. Print output to STDOUT\n",
    "\n",
    "n = int(input())\n",
    "mu = float(input())\n",
    "std = float(input())\n",
    "prob = float(input())\n",
    "z = float(input())\n",
    "\n",
    "std_s = std / math.sqrt(n)\n",
    "b = (z * std_s) + mu  \n",
    "a = (-z * std_s) + mu\n",
    "print(a)\n",
    "print(b)\n"
   ]
  },
  {
   "cell_type": "markdown",
   "metadata": {},
   "source": [
    "### Problem 23"
   ]
  },
  {
   "cell_type": "code",
   "execution_count": null,
   "metadata": {
    "vscode": {
     "languageId": "plaintext"
    }
   },
   "outputs": [],
   "source": [
    "# Enter your code here. Read input from STDIN. Print output to STDOUT\n",
    "\n",
    "import math\n",
    "n = int(input())\n",
    "\n",
    "x = list(map(float, input().rstrip().split()))\n",
    "y = list(map(float, input().rstrip().split()))\n",
    "\n",
    "def pcc(x, y):\n",
    "    mux = sum(x) / len(x)\n",
    "    muy = sum(y) / len(y)\n",
    "\n",
    "    stdx = math.sqrt(sum([(i - mux) ** 2 for i in x]) / len(x))\n",
    "    stdy = math.sqrt(sum([(i - muy) ** 2 for i in y]) / len(y))\n",
    "    res = [(x[i] - mux) * (y[i] - muy) for i in range(n)]\n",
    "    return sum(res) / (n * stdx * stdy)\n",
    "\n",
    "val = pcc(x, y)\n",
    "print(round(val, 3))"
   ]
  },
  {
   "cell_type": "markdown",
   "metadata": {},
   "source": [
    "### Problem 24"
   ]
  },
  {
   "cell_type": "code",
   "execution_count": null,
   "metadata": {
    "vscode": {
     "languageId": "plaintext"
    }
   },
   "outputs": [],
   "source": [
    "import math\n",
    "n = int(input())\n",
    "x = list(map(float, input().rstrip().split()))\n",
    "y = list(map(float, input().rstrip().split()))\n",
    "\n",
    "def argsort(X):\n",
    "    x_rank = dict((x, i+1) for i, x in enumerate(sorted(set(X))))\n",
    "    return [x_rank[x] for x in X]\n",
    "\n",
    "rx = argsort(x)\n",
    "ry = argsort(y)\n",
    "\n",
    "def src(rx, ry):\n",
    "    d_s = [(i - j) ** 2 for i, j in zip(rx, ry)]\n",
    "    return 1 - 6 * sum(d_s) / (n * (n**2 - 1))\n",
    "\n",
    "print(round(src(rx, ry), 3))"
   ]
  },
  {
   "cell_type": "markdown",
   "metadata": {},
   "source": [
    "### Problem 25\n",
    "Linear Regression"
   ]
  },
  {
   "cell_type": "code",
   "execution_count": null,
   "metadata": {
    "vscode": {
     "languageId": "plaintext"
    }
   },
   "outputs": [],
   "source": [
    "n = 5\n",
    "xy = [map(int, input().rstrip().split()) for _ in range(n)]\n",
    "sx, sy, sx2, sxy = map(sum, zip(*[(x, y, x**2, x * y) for x, y in xy]))\n",
    "b = (n * sxy - sx * sy) / (n * sx2 - sx**2)\n",
    "a = (sy / n) - b * (sx / n)\n",
    "print('{:.3f}'.format(a + b * 80))"
   ]
  },
  {
   "cell_type": "markdown",
   "metadata": {
    "vscode": {
     "languageId": "plaintext"
    }
   },
   "source": [
    "### Problem 26\n",
    "\n",
    "Multivariable Linear Regression"
   ]
  },
  {
   "cell_type": "code",
   "execution_count": null,
   "metadata": {
    "vscode": {
     "languageId": "plaintext"
    }
   },
   "outputs": [],
   "source": [
    "# Enter your code here. Read input from STDIN. Print output to STDOUT\n",
    "\n",
    "import numpy as np\n",
    "\n",
    "args1 = list(map(int, input().rstrip().split()))\n",
    "# print(args1)\n",
    "Y = []\n",
    "X = []\n",
    "for i in range(args1[1]):\n",
    "    inputs = list(map(float, input().rstrip().split()))\n",
    "    coeff = inputs[:-1]\n",
    "    coeff.insert(0, 1)\n",
    "    X.append(coeff)\n",
    "    Y.append(inputs[-1])\n",
    "\n",
    "X = np.array(X)\n",
    "Y = np.reshape(np.array(Y), (args1[1], -1))\n",
    "\n",
    "x_test = []\n",
    "args2 = int(input())\n",
    "for j in range(args2):\n",
    "    coeff = list(map(float, input().rstrip().split()))\n",
    "    coeff.insert(0, 1)\n",
    "    x_test.append(coeff)\n",
    "x_test = np.array(x_test)\n",
    "\n",
    "# print(X.shape, Y.shape)\n",
    "B = np.linalg.inv(np.transpose(X) @ X) @ (np.transpose(X) @ Y)\n",
    "res = np.round((x_test @ B).ravel(), 2)\n",
    "for i in res:\n",
    "    print(i)\n"
   ]
  },
  {
   "cell_type": "code",
   "execution_count": null,
   "metadata": {
    "vscode": {
     "languageId": "plaintext"
    }
   },
   "outputs": [],
   "source": []
  }
 ],
 "metadata": {
  "language_info": {
   "name": "python"
  },
  "orig_nbformat": 4
 },
 "nbformat": 4,
 "nbformat_minor": 2
}
