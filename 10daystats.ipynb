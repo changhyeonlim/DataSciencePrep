{
 "cells": [
  {
   "cell_type": "markdown",
   "metadata": {},
   "source": [
    "## 10 Days of Statistics from HackerRank"
   ]
  },
  {
   "cell_type": "markdown",
   "metadata": {},
   "source": [
    "### Problem 1\n",
    "#### Task\n",
    "Given an array, $X$,  of  $N$ integers, calculate and print the respective mean, median, and mode on separate lines. If your array contains more than one modal value, choose the numerically smallest one.\n",
    "\n",
    "Note: Other than the modal value (which will always be an integer), your answers should be in decimal form, rounded to a scale of $1$ decimal place (i.e., $12.3$ , $7.0$  format)."
   ]
  },
  {
   "cell_type": "code",
   "execution_count": null,
   "metadata": {
    "vscode": {
     "languageId": "plaintext"
    }
   },
   "outputs": [],
   "source": [
    "# Enter your code here. Read input from STDIN. Print output to STDOUT\n",
    "args1 = int(input())\n",
    "args2 = input()\n",
    "# G = list(input())\n",
    "\n",
    "def average_val(N, nums):\n",
    "\n",
    "    temp = 0\n",
    "    for i in nums:\n",
    "        temp += i\n",
    "    print(\"%.1f\" %(temp / N))\n",
    "\n",
    "def median_val(N, nums):\n",
    "    nums.sort()\n",
    "    if N % 2 == 0:\n",
    "        med = (nums[N // 2] + nums [N // 2 - 1]) / 2\n",
    "    else:\n",
    "        med = nums[N // 2]\n",
    "    print(\"%.1f\" %(med))\n",
    "\n",
    "def mode_val(N, nums):\n",
    "    d = {}\n",
    "    for i in nums:\n",
    "        d[i] = d.get(i, 0) + 1\n",
    "    if len(d) == N:\n",
    "        print(min(nums))\n",
    "    else:\n",
    "        print(max(d, key = lambda x: d[x]))\n",
    "\n",
    "N = args1\n",
    "nums = list(map(int, args2.split(\" \")))\n",
    "average_val(N, nums)\n",
    "median_val(N, nums)\n",
    "mode_val(N, nums)"
   ]
  },
  {
   "cell_type": "markdown",
   "metadata": {},
   "source": [
    "### Problem 2\n",
    "#### Task\n",
    "Task\n",
    "Given an array, $X$, $N$ of  integers and an array, $W$ , representing the respective weights of $X$'s elements, calculate and print the weighted mean of $X$'s elements. Your answer should be rounded to a scale of $1$ decimal place (i.e., $12.3$ format)."
   ]
  },
  {
   "cell_type": "code",
   "execution_count": null,
   "metadata": {
    "vscode": {
     "languageId": "plaintext"
    }
   },
   "outputs": [],
   "source": [
    "#!/bin/python3\n",
    "\n",
    "import math\n",
    "import os\n",
    "import random\n",
    "import re\n",
    "import sys\n",
    "\n",
    "#\n",
    "# Complete the 'weightedMean' function below.\n",
    "#\n",
    "# The function accepts following parameters:\n",
    "#  1. INTEGER_ARRAY X\n",
    "#  2. INTEGER_ARRAY W\n",
    "#\n",
    "\n",
    "def weightedMean(X, W):\n",
    "    # Write your code here\n",
    "    xw = [x*w for x, w in zip(X, W)]        \n",
    "    print(\"%.1f\" %(sum(xw) / sum(W))) \n",
    "    \n",
    "if __name__ == '__main__':\n",
    "    n = int(input().strip())\n",
    "\n",
    "    vals = list(map(int, input().rstrip().split()))\n",
    "\n",
    "    weights = list(map(int, input().rstrip().split()))\n",
    "\n",
    "    weightedMean(vals, weights)\n"
   ]
  },
  {
   "cell_type": "markdown",
   "metadata": {},
   "source": [
    "### Problem 3\n",
    "Task\n",
    "Given an array, `arr`, of $n$ integers, calculate the respective first quartile ($Q_1$), second quartile ($Q_2$), and third quartile ($Q_3$). It is guaranteed that $Q_1$, $Q_2$, and $Q_3$ are integers."
   ]
  },
  {
   "cell_type": "code",
   "execution_count": null,
   "metadata": {
    "vscode": {
     "languageId": "plaintext"
    }
   },
   "outputs": [],
   "source": [
    "#!/bin/python3\n",
    "\n",
    "import math\n",
    "import os\n",
    "import random\n",
    "import re\n",
    "import sys\n",
    "\n",
    "#\n",
    "# Complete the 'quartiles' function below.\n",
    "#\n",
    "# The function is expected to return an INTEGER_ARRAY.\n",
    "# The function accepts INTEGER_ARRAY arr as parameter.\n",
    "#\n",
    "\n",
    "def quartiles(arr):\n",
    "    # Write your code here\n",
    "    def med(arr_red):\n",
    "        mid_ind = int(len(arr_red) // 2)\n",
    "        if len(arr_red) % 2 == 0:\n",
    "            return int(sum(arr_red[mid_ind - 1: mid_ind + 1]) / 2)   \n",
    "        return arr_red[mid_ind]\n",
    "    arr.sort()\n",
    "    ind = len(arr) // 2\n",
    "    q2 = med(arr)\n",
    "    if len(arr) % 2 == 0:\n",
    "        q1 = med(arr[:ind])\n",
    "        q3 = med(arr[ind:])\n",
    "    else:\n",
    "        q1 = med(arr[:ind])\n",
    "        q3 = med(arr[ind+1:])\n",
    "    return [q1, q2, q3]\n",
    "        \n",
    "if __name__ == '__main__':\n",
    "    fptr = open(os.environ['OUTPUT_PATH'], 'w')\n",
    "\n",
    "    n = int(input().strip())\n",
    "\n",
    "    data = list(map(int, input().rstrip().split()))\n",
    "\n",
    "    res = quartiles(data)\n",
    "\n",
    "    fptr.write('\\n'.join(map(str, res)))\n",
    "    fptr.write('\\n')\n",
    "\n",
    "    fptr.close()\n"
   ]
  },
  {
   "cell_type": "markdown",
   "metadata": {},
   "source": [
    "### Problem 4\n",
    "\n",
    "Task\n",
    "The interquartile range of an array is the difference between its first ($Q_1$) and third ($Q_3$) quartiles (i.e., $Q_3 - Q_1$).\n",
    "\n",
    "Given an array,`values`, of $n$ integers and an array, `freqs`, representing the respective frequencies of `values`'s elements, construct a data set, $S$, where each `values[i]` occurs at frequency `freqs[i]`. Then calculate and print $S$'s interquartile range, rounded to a scale of 1 decimal place (i.e.,  $12.3$ format)."
   ]
  },
  {
   "cell_type": "code",
   "execution_count": null,
   "metadata": {
    "vscode": {
     "languageId": "plaintext"
    }
   },
   "outputs": [],
   "source": [
    "#!/bin/python3\n",
    "\n",
    "import math\n",
    "import os\n",
    "import random\n",
    "import re\n",
    "import sys\n",
    "\n",
    "#\n",
    "# Complete the 'interQuartile' function below.\n",
    "#\n",
    "# The function accepts following parameters:\n",
    "#  1. INTEGER_ARRAY values\n",
    "#  2. INTEGER_ARRAY freqs\n",
    "#\n",
    "\n",
    "def interQuartile(values, freqs):\n",
    "    # Print your answer to 1 decimal place within this function\n",
    "    def getmed(arr_red):\n",
    "        midpt = len(arr_red) // 2\n",
    "        if len(arr_red) % 2 == 0:\n",
    "            return sum(arr_red[midpt-1:midpt+1]) / 2\n",
    "        return arr_red[midpt]\n",
    "    \n",
    "    arr = []\n",
    "    for v, f in zip(values, freqs):\n",
    "        arr.extend([v] * f)\n",
    "    arr.sort()\n",
    "    q1 = getmed(arr[:len(arr)//2])\n",
    "\n",
    "    if len(arr) % 2:\n",
    "        q3 = getmed(arr[len(arr)//2 + 1:])\n",
    "    else:\n",
    "        q3 = getmed(arr[len(arr)//2:])\n",
    "        \n",
    "    print(\"%.1f\" %(q3- q1))\n",
    "    \n",
    "if __name__ == '__main__':\n",
    "    n = int(input().strip())\n",
    "\n",
    "    val = list(map(int, input().rstrip().split()))\n",
    "\n",
    "    freq = list(map(int, input().rstrip().split()))\n",
    "\n",
    "    interQuartile(val, freq)"
   ]
  },
  {
   "cell_type": "markdown",
   "metadata": {},
   "source": [
    "### Problem 5\n",
    "\n",
    "Given an array, `arr`, of $n$ integers, calculate and print the standard deviation. Your answer should be in decimal form, rounded to a scale of $1$ decimal place (i.e., $12.3$ format). An error margin of $\\pm 0.1$ will be tolerated for the standard deviation."
   ]
  },
  {
   "cell_type": "code",
   "execution_count": null,
   "metadata": {
    "vscode": {
     "languageId": "plaintext"
    }
   },
   "outputs": [],
   "source": [
    "#!/bin/python3\n",
    "\n",
    "import math\n",
    "import os\n",
    "import random\n",
    "import re\n",
    "import sys\n",
    "\n",
    "#\n",
    "# Complete the 'stdDev' function below.\n",
    "#\n",
    "# The function accepts INTEGER_ARRAY arr as parameter.\n",
    "#\n",
    "\n",
    "def stdDev(arr):\n",
    "    # Print your answers to 1 decimal place within this function\n",
    "    avg = sum(arr) / len(arr)\n",
    "    var_ele = [(i - avg) ** 2 for i in arr]\n",
    "    stddev = (sum(var_ele) / len(arr)) ** 0.5\n",
    "    print(\"%.1f\" %(stddev))\n",
    "    \n",
    "if __name__ == '__main__':\n",
    "    n = int(input().strip())\n",
    "\n",
    "    vals = list(map(int, input().rstrip().split()))\n",
    "\n",
    "    stdDev(vals)"
   ]
  },
  {
   "cell_type": "markdown",
   "metadata": {},
   "source": [
    "### Problem 6\n",
    "In a single toss of $2$ fair (evenly-weighted) six-sided dice, find the probability that their sum will be at most 9.\n",
    "\n",
    "Answer: 5/6"
   ]
  },
  {
   "cell_type": "markdown",
   "metadata": {},
   "source": [
    "### Problem 7\n",
    "In a single toss of $2$ fair (evenly-weighted) six-sided dice, find the probability that the values rolled by each die will be different and the two dice have a sum of 6.\n",
    "\n",
    "Answer: 4 / (6 * 6) = 1/9"
   ]
  },
  {
   "cell_type": "markdown",
   "metadata": {},
   "source": [
    "### Problem 8\n",
    "There are 3 urns labeled $X$, $Y$, and $Z$.\n",
    "\n",
    "Urn $X$ contains $4$ red balls and $3$ black balls.\n",
    "Urn $Y$ contains $5$ red balls and $4$ black balls.\n",
    "Urn $Z$ contains $4$ red balls and $4$ black balls.\n",
    "\n",
    "One ball is drawn from each of the $3$ urns. What is the probability that, of the $3$ balls drawn, $2$ are red and $1$ is black?\n",
    "\n",
    "Answer: 4/7 * 5/9 * 1/2 + 4/7 * 4/9 * 1/2 + 3/7 * 5/9 * 1/2 = 17/42"
   ]
  },
  {
   "cell_type": "markdown",
   "metadata": {},
   "source": [
    "### Problem 9\n",
    "Suppose a family has $2$ children, one of which is a boy. What is the probability that both children are boys?\n",
    "\n",
    "Answer: 1/3"
   ]
  },
  {
   "cell_type": "markdown",
   "metadata": {},
   "source": [
    "### Problem 10\n",
    "You draw $2$ cards from a standard $52$-card deck without replacing them. What is the probability that both cards are of the same suit?\n",
    "\n",
    "Answer: 12/51"
   ]
  },
  {
   "cell_type": "markdown",
   "metadata": {},
   "source": [
    "### Problem 11\n",
    "A bag contains 3 red marbles and 4 blue marbles. Then, 2 marbles are drawn from the bag, at random, without replacement. If the first marble drawn is red, what is the probability that the second marble is blue?\n",
    "\n",
    "Answer: 2/3"
   ]
  }
 ],
 "metadata": {
  "language_info": {
   "name": "python"
  },
  "orig_nbformat": 4
 },
 "nbformat": 4,
 "nbformat_minor": 2
}
